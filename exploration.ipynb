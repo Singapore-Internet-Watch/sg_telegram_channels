{
 "cells": [
  {
   "cell_type": "markdown",
   "id": "d26471ae-22a6-450e-bb4a-c5b66ca1d565",
   "metadata": {},
   "source": [
    "## Libraries"
   ]
  },
  {
   "cell_type": "code",
   "execution_count": 1,
   "id": "571f66ca-e35f-4adf-adc5-dc05d32c22f5",
   "metadata": {},
   "outputs": [],
   "source": [
    "from bs4 import BeautifulSoup\n",
    "import requests\n",
    "import pandas as pd\n",
    "from datetime import date"
   ]
  },
  {
   "cell_type": "markdown",
   "id": "93a7e6e1-b603-4ba2-8418-cf1841ba4474",
   "metadata": {},
   "source": [
    "Steps:\n",
    "1. Feed in a url\n",
    "1. Grab the html of the page using beautiful soup\n",
    "1. Explore to find the html tags for the things we want: channel name, description, number of followers\n",
    "1. Save in a data structure"
   ]
  },
  {
   "cell_type": "markdown",
   "id": "a62c10ec-2239-41a7-ba42-7cc07b977819",
   "metadata": {},
   "source": [
    "## Step 1, 2: get html"
   ]
  },
  {
   "cell_type": "code",
   "execution_count": 2,
   "id": "5a09d4eb-e6f0-4807-b180-0bab36c8949e",
   "metadata": {},
   "outputs": [],
   "source": [
    "channel_url = 'https://t.me/mothershipsg'\n",
    "r = requests.get(channel_url)\n",
    "soup = BeautifulSoup(r.content, 'html.parser')"
   ]
  },
  {
   "cell_type": "markdown",
   "id": "6e404de9-be3e-4053-aaad-e9a6ba4ebf78",
   "metadata": {},
   "source": [
    "## Step 3: find tags"
   ]
  },
  {
   "cell_type": "code",
   "execution_count": 3,
   "id": "519657c2-b001-45df-88f3-e558e33b187b",
   "metadata": {},
   "outputs": [
    {
     "name": "stdout",
     "output_type": "stream",
     "text": [
      "<!DOCTYPE html>\n",
      "<html>\n",
      " <head>\n",
      "  <meta charset=\"utf-8\"/>\n",
      "  <title>\n",
      "   Telegram: Contact @mothershipsg\n",
      "  </title>\n",
      "  <meta content=\"width=device-width, initial-scale=1.0\" name=\"viewport\"/>\n",
      "  <meta content=\"Mothership.sg\" property=\"og:title\"/>\n",
      "  <meta content=\"https://cdn5.telesco.pe/file/Na_UlRaAT38TQT2PvKT-xl2GSgICWJHTLNsHkpotkF7DhvQfp5uV-yMrLOvHNsA_XYR2ubSRsUzpo8JES8umn6rxgiGzLeBRhAUIV8QKVOo6P8S3wkTn0CzxcrN6faDnmDWzKoG8HwgOmG_oxxb6uwAiauOkWeI_V1vIOfNgNrbHVJJ_VEYdhCy4uMYDuwYRKT5y76wKtCgGpnUX7NmKHeKQXXe_2alfJpKNnq8NWi5Z0NNiVklYtGrz1vIR9OpE0vz2sfynVMv4QF1jmMKQzUhL-n5fjmVIcQ8w_MG65i18oP3tIrSsPt4EBW9e4SGv53YtaLD0bpjaWrG4Lrj8LQ.jpg\" property=\"og:image\"/>\n",
      "  <meta content=\"Telegram\" property=\"og:site_name\"/>\n",
      "  <meta content=\"This is the official Telegram channel for Mothership, a community news service for Singaporeans. You can visit us @ https://mothership.sg. \t\tIf you have a story to share, drop us a message @ m.me/MothershipSG.\" property=\"og:description\"/>\n",
      "  <meta content=\"Mothership.sg\" property=\"twitter:title\"/>\n",
      "  <meta content=\"https://cdn5.telesco.pe/file/Na_UlRaAT38TQT2PvKT-xl2GSgICWJHTLNsHkpotkF7DhvQfp5uV-yMrLOvHNsA_XYR2ubSRsUzpo8JES8umn6rxgiGzLeBRhAUIV8QKVOo6P8S3wkTn0CzxcrN6faDnmDWzKoG8HwgOmG_oxxb6uwAiauOkWeI_V1vIOfNgNrbHVJJ_VEYdhCy4uMYDuwYRKT5y76wKtCgGpnUX7NmKHeKQXXe_2alfJpKNnq8NWi5Z0NNiVklYtGrz1vIR9OpE0vz2sfynVMv4QF1jmMKQzUhL-n5fjmVIcQ8w_MG65i18oP3tIrSsPt4EBW9e4SGv53YtaLD0bpjaWrG4Lrj8LQ.jpg\" property=\"twitter:image\"/>\n",
      "  <meta content=\"@Telegram\" property=\"twitter:site\"/>\n",
      "  <meta content=\"686449807\" property=\"al:ios:app_store_id\"/>\n",
      "  <meta content=\"Telegram Messenger\" property=\"al:ios:app_name\"/>\n",
      "  <meta content=\"tg://resolve?domain=mothershipsg\" property=\"al:ios:url\"/>\n",
      "  <meta content=\"tg://resolve?domain=mothershipsg\" property=\"al:android:url\"/>\n",
      "  <meta content=\"Telegram\" property=\"al:android:app_name\"/>\n",
      "  <meta content=\"org.telegram.messenger\" property=\"al:android:package\"/>\n",
      "  <meta content=\"summary\" name=\"twitter:card\"/>\n",
      "  <meta content=\"@Telegram\" name=\"twitter:site\"/>\n",
      "  <meta content=\"This is the official Telegram channel for Mothership, a community news service for Singaporeans. You can visit us @ https://mothership.sg. \t\tIf you have a story to share, drop us a message @ m.me/MothershipSG.\n",
      "\" name=\"twitter:description\"/>\n",
      "  <meta content=\"Telegram Messenger\" name=\"twitter:app:name:iphone\"/>\n",
      "  <meta content=\"686449807\" name=\"twitter:app:id:iphone\"/>\n",
      "  <meta content=\"tg://resolve?domain=mothershipsg\" name=\"twitter:app:url:iphone\"/>\n",
      "  <meta content=\"Telegram Messenger\" name=\"twitter:app:name:ipad\"/>\n",
      "  <meta content=\"686449807\" name=\"twitter:app:id:ipad\"/>\n",
      "  <meta content=\"tg://resolve?domain=mothershipsg\" name=\"twitter:app:url:ipad\"/>\n",
      "  <meta content=\"Telegram\" name=\"twitter:app:name:googleplay\"/>\n",
      "  <meta content=\"org.telegram.messenger\" name=\"twitter:app:id:googleplay\"/>\n",
      "  <meta content=\"https://t.me/mothershipsg\" name=\"twitter:app:url:googleplay\"/>\n",
      "  <meta content=\"app-id=686449807, app-argument: tg://resolve?domain=mothershipsg\" name=\"apple-itunes-app\"/>\n",
      "  <link href=\"//telegram.org/favicon.ico?3\" rel=\"shortcut icon\" type=\"image/x-icon\"/>\n",
      "  <link href=\"https://fonts.googleapis.com/css?family=Roboto:400,700\" rel=\"stylesheet\" type=\"text/css\"/>\n",
      "  <!--link href=\"/css/myriad.css\" rel=\"stylesheet\"-->\n",
      "  <link href=\"//telegram.org/css/bootstrap.min.css?3\" rel=\"stylesheet\"/>\n",
      "  <link href=\"//telegram.org/css/telegram.css?212\" media=\"screen\" rel=\"stylesheet\"/>\n",
      " </head>\n",
      " <body>\n",
      "  <div class=\"tgme_page_wrap\">\n",
      "   <div class=\"tgme_head_wrap\">\n",
      "    <div class=\"tgme_head\">\n",
      "     <a class=\"tgme_head_brand\" href=\"//telegram.org/\">\n",
      "      <i class=\"tgme_logo\">\n",
      "      </i>\n",
      "     </a>\n",
      "    </div>\n",
      "   </div>\n",
      "   <a class=\"tgme_head_dl_button\" href=\"//telegram.org/dl?tme=6a48505f6de22829b2_1857649730207814356\">\n",
      "    Don't have\n",
      "    <strong>\n",
      "     Telegram\n",
      "    </strong>\n",
      "    yet? Try it now!\n",
      "    <i class=\"tgme_icon_arrow\">\n",
      "    </i>\n",
      "   </a>\n",
      "   <div class=\"tgme_page tgme_page_post\">\n",
      "    <div class=\"tgme_page_photo\">\n",
      "     <a href=\"tg://resolve?domain=mothershipsg\">\n",
      "      <img class=\"tgme_page_photo_image\" src=\"https://cdn5.telesco.pe/file/Na_UlRaAT38TQT2PvKT-xl2GSgICWJHTLNsHkpotkF7DhvQfp5uV-yMrLOvHNsA_XYR2ubSRsUzpo8JES8umn6rxgiGzLeBRhAUIV8QKVOo6P8S3wkTn0CzxcrN6faDnmDWzKoG8HwgOmG_oxxb6uwAiauOkWeI_V1vIOfNgNrbHVJJ_VEYdhCy4uMYDuwYRKT5y76wKtCgGpnUX7NmKHeKQXXe_2alfJpKNnq8NWi5Z0NNiVklYtGrz1vIR9OpE0vz2sfynVMv4QF1jmMKQzUhL-n5fjmVIcQ8w_MG65i18oP3tIrSsPt4EBW9e4SGv53YtaLD0bpjaWrG4Lrj8LQ.jpg\"/>\n",
      "     </a>\n",
      "    </div>\n",
      "    <div class=\"tgme_page_title\" dir=\"auto\">\n",
      "     <span dir=\"auto\">\n",
      "      Mothership.sg\n",
      "     </span>\n",
      "     <i class=\"verified-icon\">\n",
      "     </i>\n",
      "    </div>\n",
      "    <div class=\"tgme_page_extra\">\n",
      "     130 423 subscribers\n",
      "    </div>\n",
      "    <div class=\"tgme_page_description\" dir=\"auto\">\n",
      "     This is the official Telegram channel for Mothership, a community news service for Singaporeans. You can visit us @ https://mothership.sg.\n",
      "     <br/>\n",
      "     <br/>\n",
      "     If you have a story to share, drop us a message @ m.me/MothershipSG.\n",
      "    </div>\n",
      "    <div class=\"tgme_page_action\">\n",
      "     <a class=\"tgme_action_button_new\" href=\"tg://resolve?domain=mothershipsg\">\n",
      "      View in Telegram\n",
      "     </a>\n",
      "    </div>\n",
      "    <!-- WEBOGRAM_BTN -->\n",
      "    <div class=\"tgme_page_action tgme_page_context_action\">\n",
      "     <div class=\"tgme_page_context_btn\">\n",
      "      <a class=\"tgme_action_button_new\" href=\"/s/mothershipsg\">\n",
      "       <span class=\"tgme_action_button_label\">\n",
      "        Preview channel\n",
      "       </span>\n",
      "      </a>\n",
      "     </div>\n",
      "    </div>\n",
      "    <div class=\"tgme_page_additional\">\n",
      "     If you have\n",
      "     <strong>\n",
      "      Telegram\n",
      "     </strong>\n",
      "     , you can view and join\n",
      "     <br/>\n",
      "     <strong>\n",
      "      Mothership.sg\n",
      "     </strong>\n",
      "     right away.\n",
      "    </div>\n",
      "   </div>\n",
      "  </div>\n",
      "  <div id=\"tgme_frame_cont\">\n",
      "  </div>\n",
      "  <script type=\"text/javascript\">\n",
      "   var protoUrl = \"tg:\\/\\/resolve?domain=mothershipsg\";\n",
      "if (false) {\n",
      "  var iframeContEl = document.getElementById('tgme_frame_cont') || document.body;\n",
      "  var iframeEl = document.createElement('iframe');\n",
      "  iframeContEl.appendChild(iframeEl);\n",
      "  var pageHidden = false;\n",
      "  window.addEventListener('pagehide', function () {\n",
      "    pageHidden = true;\n",
      "  }, false);\n",
      "  window.addEventListener('blur', function () {\n",
      "    pageHidden = true;\n",
      "  }, false);\n",
      "  if (iframeEl !== null) {\n",
      "    iframeEl.src = protoUrl;\n",
      "  }\n",
      "  !false && setTimeout(function() {\n",
      "    if (!pageHidden) {\n",
      "      window.location = protoUrl;\n",
      "    }\n",
      "  }, 2000);\n",
      "}\n",
      "else if (protoUrl) {\n",
      "  setTimeout(function() {\n",
      "    window.location = protoUrl;\n",
      "  }, 100);\n",
      "}\n",
      "  </script>\n",
      "  <script>\n",
      "  </script>\n",
      " </body>\n",
      "</html>\n",
      "<!-- page generated in 14.21ms -->\n",
      "\n"
     ]
    }
   ],
   "source": [
    "print(soup.prettify())"
   ]
  },
  {
   "cell_type": "markdown",
   "id": "53d5c1c2-a388-43de-8ff3-f5a567072c3b",
   "metadata": {},
   "source": [
    "HTML sections we want are:"
   ]
  },
  {
   "cell_type": "code",
   "execution_count": 4,
   "id": "d8f4c9d1-c6ed-4f0b-9091-e88edb916a38",
   "metadata": {},
   "outputs": [
    {
     "data": {
      "text/plain": [
       "<div class=\"tgme_page_title\" dir=\"auto\">\n",
       "<span dir=\"auto\">Mothership.sg</span><i class=\"verified-icon\"></i>\n",
       "</div>"
      ]
     },
     "execution_count": 4,
     "metadata": {},
     "output_type": "execute_result"
    }
   ],
   "source": [
    "soup.find(class_='tgme_page_title')"
   ]
  },
  {
   "cell_type": "code",
   "execution_count": 5,
   "id": "45428e35-91f5-4c8c-9956-aecddb3cab1c",
   "metadata": {},
   "outputs": [
    {
     "data": {
      "text/plain": [
       "'This is the official Telegram channel for Mothership, a community news service for Singaporeans. You can visit us @ https://mothership.sg. If you have a story to share, drop us a message @ m.me/MothershipSG.'"
      ]
     },
     "execution_count": 5,
     "metadata": {},
     "output_type": "execute_result"
    }
   ],
   "source": [
    "soup.find(class_='tgme_page_description').text"
   ]
  },
  {
   "cell_type": "code",
   "execution_count": 6,
   "id": "29dd5d75-092f-4b29-aa11-c5327963ecc3",
   "metadata": {},
   "outputs": [
    {
     "data": {
      "text/plain": [
       "'130 423 subscribers'"
      ]
     },
     "execution_count": 6,
     "metadata": {},
     "output_type": "execute_result"
    }
   ],
   "source": [
    "soup.find(class_='tgme_page_extra').text"
   ]
  },
  {
   "cell_type": "markdown",
   "id": "d496a259-e677-4dee-b5a4-1214a7d65ebb",
   "metadata": {},
   "source": [
    "## Step 4: export"
   ]
  },
  {
   "cell_type": "code",
   "execution_count": 7,
   "id": "32d81fe5-5fb9-4b46-bba2-83b280daa4ad",
   "metadata": {},
   "outputs": [],
   "source": [
    "def channel_verified(title_html_obj):\n",
    "    if title_html_obj.i:\n",
    "        return True\n",
    "    return False\n",
    "\n",
    "def channel_subs(subs_html_obj):\n",
    "    subs_string = subs_html_obj.text\n",
    "    subs_int = int(subs_string.replace('subscribers', '').replace(' ', ''))\n",
    "    return subs_int"
   ]
  },
  {
   "cell_type": "code",
   "execution_count": 8,
   "id": "b3b15267-8a39-4f57-9a8d-b078520a2e99",
   "metadata": {},
   "outputs": [],
   "source": [
    "channel = {'channel': soup.find(class_='tgme_page_title').text.strip(),\n",
    "           'verified': channel_verified(soup.find(class_='tgme_page_title')),\n",
    "           'description': soup.find(class_='tgme_page_description').text.strip(),\n",
    "           'subscribers': channel_subs(soup.find(class_='tgme_page_extra')),\n",
    "           'url': channel_url, \n",
    "           'date_accessed': date.today()\n",
    "          }"
   ]
  },
  {
   "cell_type": "code",
   "execution_count": 9,
   "id": "6427a19f-5478-4948-aab0-828117a0a08c",
   "metadata": {},
   "outputs": [],
   "source": [
    "tele_channels = pd.DataFrame(\n",
    "    columns=['channel', 'verified', 'description', 'subscribers', 'url', 'date_accessed']\n",
    ")\n",
    "\n",
    "tele_channels = tele_channels.append(channel, ignore_index=True)"
   ]
  },
  {
   "cell_type": "code",
   "execution_count": 10,
   "id": "48301e1a-fceb-4ee0-b5fd-2724f1adef5f",
   "metadata": {},
   "outputs": [
    {
     "data": {
      "text/html": [
       "<div>\n",
       "<style scoped>\n",
       "    .dataframe tbody tr th:only-of-type {\n",
       "        vertical-align: middle;\n",
       "    }\n",
       "\n",
       "    .dataframe tbody tr th {\n",
       "        vertical-align: top;\n",
       "    }\n",
       "\n",
       "    .dataframe thead th {\n",
       "        text-align: right;\n",
       "    }\n",
       "</style>\n",
       "<table border=\"1\" class=\"dataframe\">\n",
       "  <thead>\n",
       "    <tr style=\"text-align: right;\">\n",
       "      <th></th>\n",
       "      <th>channel</th>\n",
       "      <th>verified</th>\n",
       "      <th>description</th>\n",
       "      <th>subscribers</th>\n",
       "      <th>url</th>\n",
       "      <th>date_accessed</th>\n",
       "    </tr>\n",
       "  </thead>\n",
       "  <tbody>\n",
       "    <tr>\n",
       "      <th>0</th>\n",
       "      <td>Mothership.sg</td>\n",
       "      <td>True</td>\n",
       "      <td>This is the official Telegram channel for Moth...</td>\n",
       "      <td>130423</td>\n",
       "      <td>https://t.me/mothershipsg</td>\n",
       "      <td>2021-08-04</td>\n",
       "    </tr>\n",
       "  </tbody>\n",
       "</table>\n",
       "</div>"
      ],
      "text/plain": [
       "         channel verified                                        description  \\\n",
       "0  Mothership.sg     True  This is the official Telegram channel for Moth...   \n",
       "\n",
       "  subscribers                        url date_accessed  \n",
       "0      130423  https://t.me/mothershipsg    2021-08-04  "
      ]
     },
     "execution_count": 10,
     "metadata": {},
     "output_type": "execute_result"
    }
   ],
   "source": [
    "tele_channels"
   ]
  },
  {
   "cell_type": "code",
   "execution_count": null,
   "id": "e0db5ca2-c346-464c-b6de-53d61c674268",
   "metadata": {},
   "outputs": [],
   "source": []
  }
 ],
 "metadata": {
  "kernelspec": {
   "display_name": "Python 3",
   "language": "python",
   "name": "python3"
  },
  "language_info": {
   "codemirror_mode": {
    "name": "ipython",
    "version": 3
   },
   "file_extension": ".py",
   "mimetype": "text/x-python",
   "name": "python",
   "nbconvert_exporter": "python",
   "pygments_lexer": "ipython3",
   "version": "3.8.8"
  }
 },
 "nbformat": 4,
 "nbformat_minor": 5
}
